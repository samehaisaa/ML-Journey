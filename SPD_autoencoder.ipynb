{
  "nbformat": 4,
  "nbformat_minor": 0,
  "metadata": {
    "colab": {
      "provenance": [],
      "authorship_tag": "ABX9TyOgch/LvZVLKwZivI9f4paP",
      "include_colab_link": true
    },
    "kernelspec": {
      "name": "python3",
      "display_name": "Python 3"
    },
    "language_info": {
      "name": "python"
    }
  },
  "cells": [
    {
      "cell_type": "markdown",
      "metadata": {
        "id": "view-in-github",
        "colab_type": "text"
      },
      "source": [
        "<a href=\"https://colab.research.google.com/github/samehaisaa/ML-Journey/blob/main/SPD_autoencoder.ipynb\" target=\"_parent\"><img src=\"https://colab.research.google.com/assets/colab-badge.svg\" alt=\"Open In Colab\"/></a>"
      ]
    },
    {
      "cell_type": "code",
      "execution_count": null,
      "metadata": {
        "colab": {
          "base_uri": "https://localhost:8080/"
        },
        "id": "0j27V89Nj2vC",
        "outputId": "01ff8daa-0d39-4734-8713-c7fe0976d9dd"
      },
      "outputs": [
        {
          "output_type": "stream",
          "name": "stdout",
          "text": [
            "Collecting geomstats\n",
            "  Downloading geomstats-2.8.0-py3-none-any.whl.metadata (16 kB)\n",
            "Requirement already satisfied: joblib>=0.17.0 in /usr/local/lib/python3.11/dist-packages (from geomstats) (1.4.2)\n",
            "Requirement already satisfied: matplotlib>=3.3.4 in /usr/local/lib/python3.11/dist-packages (from geomstats) (3.10.0)\n",
            "Requirement already satisfied: numpy>=1.18.1 in /usr/local/lib/python3.11/dist-packages (from geomstats) (1.26.4)\n",
            "Requirement already satisfied: pandas>=1.1.5 in /usr/local/lib/python3.11/dist-packages (from geomstats) (2.2.2)\n",
            "Requirement already satisfied: scikit-learn>=0.22.1 in /usr/local/lib/python3.11/dist-packages (from geomstats) (1.6.1)\n",
            "Requirement already satisfied: scipy>=1.9 in /usr/local/lib/python3.11/dist-packages (from geomstats) (1.13.1)\n",
            "Requirement already satisfied: contourpy>=1.0.1 in /usr/local/lib/python3.11/dist-packages (from matplotlib>=3.3.4->geomstats) (1.3.1)\n",
            "Requirement already satisfied: cycler>=0.10 in /usr/local/lib/python3.11/dist-packages (from matplotlib>=3.3.4->geomstats) (0.12.1)\n",
            "Requirement already satisfied: fonttools>=4.22.0 in /usr/local/lib/python3.11/dist-packages (from matplotlib>=3.3.4->geomstats) (4.55.4)\n",
            "Requirement already satisfied: kiwisolver>=1.3.1 in /usr/local/lib/python3.11/dist-packages (from matplotlib>=3.3.4->geomstats) (1.4.8)\n",
            "Requirement already satisfied: packaging>=20.0 in /usr/local/lib/python3.11/dist-packages (from matplotlib>=3.3.4->geomstats) (24.2)\n",
            "Requirement already satisfied: pillow>=8 in /usr/local/lib/python3.11/dist-packages (from matplotlib>=3.3.4->geomstats) (11.1.0)\n",
            "Requirement already satisfied: pyparsing>=2.3.1 in /usr/local/lib/python3.11/dist-packages (from matplotlib>=3.3.4->geomstats) (3.2.1)\n",
            "Requirement already satisfied: python-dateutil>=2.7 in /usr/local/lib/python3.11/dist-packages (from matplotlib>=3.3.4->geomstats) (2.8.2)\n",
            "Requirement already satisfied: pytz>=2020.1 in /usr/local/lib/python3.11/dist-packages (from pandas>=1.1.5->geomstats) (2024.2)\n",
            "Requirement already satisfied: tzdata>=2022.7 in /usr/local/lib/python3.11/dist-packages (from pandas>=1.1.5->geomstats) (2025.1)\n",
            "Requirement already satisfied: threadpoolctl>=3.1.0 in /usr/local/lib/python3.11/dist-packages (from scikit-learn>=0.22.1->geomstats) (3.5.0)\n",
            "Requirement already satisfied: six>=1.5 in /usr/local/lib/python3.11/dist-packages (from python-dateutil>=2.7->matplotlib>=3.3.4->geomstats) (1.17.0)\n",
            "Downloading geomstats-2.8.0-py3-none-any.whl (10.5 MB)\n",
            "\u001b[2K   \u001b[90m━━━━━━━━━━━━━━━━━━━━━━━━━━━━━━━━━━━━━━━━\u001b[0m \u001b[32m10.5/10.5 MB\u001b[0m \u001b[31m10.6 MB/s\u001b[0m eta \u001b[36m0:00:00\u001b[0m\n",
            "\u001b[?25hInstalling collected packages: geomstats\n",
            "Successfully installed geomstats-2.8.0\n"
          ]
        }
      ],
      "source": [
        "!pip install geomstats\n"
      ]
    },
    {
      "cell_type": "code",
      "source": [
        "import geomstats.backend as gs\n",
        "from geomstats.geometry.spd_matrices import SPDMatrices\n",
        "\n",
        "# Define the dimension of SPD matrices (e.g., 3x3)\n",
        "dim = 2\n",
        "spd_manifold = SPDMatrices(n=dim)\n",
        "\n",
        "# Generate random SPD matrices\n",
        "n_matrices = 3\n",
        "random_spds = spd_manifold.random_point(n_matrices)\n",
        "\n",
        "print(\"Random SPD matrices:\")\n",
        "print(random_spds)\n"
      ],
      "metadata": {
        "colab": {
          "base_uri": "https://localhost:8080/"
        },
        "id": "tYP6YJLlj-6s",
        "outputId": "ca3e7fa8-bbc8-47ae-afdf-60074fdb3b75"
      },
      "execution_count": null,
      "outputs": [
        {
          "output_type": "stream",
          "name": "stdout",
          "text": [
            "Random SPD matrices:\n",
            "[[[ 1.24120486 -0.52811582]\n",
            "  [-0.52811582  0.622038  ]]\n",
            "\n",
            " [[ 1.54210477  0.03368138]\n",
            "  [ 0.03368138  0.48700161]]\n",
            "\n",
            " [[ 2.37526386  0.01093831]\n",
            "  [ 0.01093831  0.47255478]]]\n"
          ]
        }
      ]
    },
    {
      "cell_type": "code",
      "source": [
        "import geomstats.geometry.spd_matrices as spd\n",
        "print(dir(spd))\n"
      ],
      "metadata": {
        "colab": {
          "base_uri": "https://localhost:8080/"
        },
        "id": "8_HnOkVXlFlx",
        "outputId": "c7349376-270a-4f94-a04b-c3d0b58a5751"
      },
      "execution_count": null,
      "outputs": [
        {
          "output_type": "stream",
          "name": "stdout",
          "text": [
            "['CholeskyMap', 'ComplexMatrices', 'Diffeo', 'GeneralLinear', 'InvariantPositiveLowerTriangularMatricesMetric', 'LieCholeskyMetric', 'Matrices', 'MatricesMetric', 'MatrixPower', 'PositiveLowerTriangularMatrices', 'PullbackDiffeoMetric', 'RiemannianMetric', 'SPDAffineMetric', 'SPDBuresWassersteinMetric', 'SPDEuclideanMetric', 'SPDLogEuclideanMetric', 'SPDMatrices', 'SPDPowerMetric', 'ScalarProductMetric', 'SymMatrixLog', 'SymmetricMatrices', 'VectorSpaceOpenSet', '__builtins__', '__cached__', '__doc__', '__file__', '__loader__', '__name__', '__package__', '__spec__', '_aux_differential_power', 'apply_func_to_eigvalsh', 'expmh', 'gs', 'integrate', 'logmh', 'math', 'powermh', 'repeat_out']\n"
          ]
        }
      ]
    },
    {
      "cell_type": "code",
      "source": [
        "from geomstats.geometry.spd_matrices import SPDMatrices, SPDAffineMetric\n",
        "\n",
        "# Define the SPD space\n",
        "spd_space = SPDMatrices(n=dim)\n",
        "\n",
        "# Define the affine-invariant metric\n",
        "metric = SPDAffineMetric(spd_space)\n",
        "\n",
        "# Choose two random SPD matrices\n",
        "spd_a, spd_b = random_spds[0], random_spds[1]\n",
        "\n",
        "# Compute geodesic between the two matrices\n",
        "n_points = 100\n",
        "geodesic = metric.geodesic(initial_point=spd_a, end_point=spd_b)\n",
        "geodesic_points = geodesic(gs.linspace(0, 1, n_points))\n",
        "\n",
        "# Visualize geodesic points (trace their determinant)\n",
        "determinants = [gs.linalg.det(matrix) for matrix in geodesic_points]\n",
        "plt.plot(determinants, label=\"Geodesic Path (Affine Metric)\")\n",
        "plt.title(\"Geodesic Path Determinants\")\n",
        "plt.xlabel(\"Step along geodesic\")\n",
        "plt.ylabel(\"Determinant\")\n",
        "plt.legend()\n",
        "plt.show()\n"
      ],
      "metadata": {
        "colab": {
          "base_uri": "https://localhost:8080/",
          "height": 472
        },
        "id": "_Ln3pwapkWDV",
        "outputId": "c077d439-62ac-4c85-9c73-4c4d72b2e903"
      },
      "execution_count": null,
      "outputs": [
        {
          "output_type": "display_data",
          "data": {
            "text/plain": [
              "<Figure size 640x480 with 1 Axes>"
            ],
            "image/png": "[encoded data removed]"
          },
          "metadata": {}
        }
      ]
    },
    {
      "cell_type": "code",
      "source": [
        "for spd in random_spds:\n",
        "    det = np.linalg.det(spd)\n",
        "    cond = np.linalg.cond(spd)\n",
        "    print(f\"Determinant: {det}, Condition number: {cond}\")\n"
      ],
      "metadata": {
        "colab": {
          "base_uri": "https://localhost:8080/"
        },
        "id": "Kx1YpzganYAT",
        "outputId": "0aafcf44-4cf5-4cd5-8113-3fb767d32cec"
      },
      "execution_count": null,
      "outputs": [
        {
          "output_type": "stream",
          "name": "stdout",
          "text": [
            "Determinant: 2.931983889283256, Condition number: 19.151082737057887\n",
            "Determinant: 0.308492610922293, Condition number: 7.021048528363019\n",
            "Determinant: 0.44526923822241227, Condition number: 26.648846582316686\n",
            "Determinant: 0.07826850240946773, Condition number: 3.488110313421803\n",
            "Determinant: 0.4698636135780271, Condition number: 14.47895739885662\n",
            "Determinant: 0.39800028682915883, Condition number: 4.728585045479721\n",
            "Determinant: 1.1602468130171726, Condition number: 38.262039729082424\n",
            "Determinant: 0.6994831146974647, Condition number: 41.90986303852337\n",
            "Determinant: 0.9383150244438022, Condition number: 38.501045508495935\n",
            "Determinant: 0.7080757245490975, Condition number: 17.162751672795746\n"
          ]
        }
      ]
    },
    {
      "cell_type": "code",
      "source": [
        "regularization_factor = 1e-6  # small value for regularization\n",
        "spd = spd + regularization_factor * np.eye(dim)\n"
      ],
      "metadata": {
        "id": "XvhZlk95ngL_"
      },
      "execution_count": null,
      "outputs": []
    },
    {
      "cell_type": "code",
      "source": [
        "import numpy as np\n",
        "from geomstats.geometry.spd_matrices import SPDMatrices, SPDAffineMetric\n",
        "from geomstats.learning.pca import TangentPCA\n",
        "\n",
        "# Step 0: Generate synthetic fMRI covariance matrices (for illustration)\n",
        "n_subjects = 100\n",
        "n_regions = 100\n",
        "spd_manifold = SPDMatrices(n=n_regions)\n",
        "data = spd_manifold.random_point(n_samples=n_subjects)  # Replace with real data\n",
        "\n",
        "# Step 1: Compute Fréchet Mean (Karcher flow)\n",
        "# Pass the SPDMatrices object (spd_manifold) instead of n_regions\n",
        "metric = SPDAffineMetric(spd_manifold)\n",
        "mean = metric.mean(data, max_iter=100, epsilon=1e-6)\n",
        "\n",
        "# Step 2: Map to tangent space at mean\n",
        "tangent_vectors = metric.log(data, mean)\n",
        "\n",
        "# Step 3: Apply Tangent PCA\n",
        "tpca = TangentPCA(metric=metric, n_components=10)\n",
        "tpca.fit(data, base_point=mean)\n",
        "reduced_tangent_vectors = tpca.transform(data)\n",
        "\n",
        "# Step 4: Reconstruct reduced SPD matrices (optional)\n",
        "reconstructed_data = tpca.inverse_transform(reduced_tangent_vectors)"
      ],
      "metadata": {
        "colab": {
          "base_uri": "https://localhost:8080/",
          "height": 219
        },
        "id": "GAWBqHzwl6gv",
        "outputId": "e9db0add-7478-41de-8ca7-328ca8f5c0cb"
      },
      "execution_count": null,
      "outputs": [
        {
          "output_type": "error",
          "ename": "AttributeError",
          "evalue": "'SPDAffineMetric' object has no attribute 'mean'",
          "traceback": [
            "\u001b[0;31m---------------------------------------------------------------------------\u001b[0m",
            "\u001b[0;31mAttributeError\u001b[0m                            Traceback (most recent call last)",
            "\u001b[0;32m<ipython-input-4-d17fc82523f0>\u001b[0m in \u001b[0;36m<cell line: 0>\u001b[0;34m()\u001b[0m\n\u001b[1;32m     12\u001b[0m \u001b[0;31m# Pass the SPDMatrices object (spd_manifold) instead of n_regions\u001b[0m\u001b[0;34m\u001b[0m\u001b[0;34m\u001b[0m\u001b[0m\n\u001b[1;32m     13\u001b[0m \u001b[0mmetric\u001b[0m \u001b[0;34m=\u001b[0m \u001b[0mSPDAffineMetric\u001b[0m\u001b[0;34m(\u001b[0m\u001b[0mspd_manifold\u001b[0m\u001b[0;34m)\u001b[0m\u001b[0;34m\u001b[0m\u001b[0;34m\u001b[0m\u001b[0m\n\u001b[0;32m---> 14\u001b[0;31m \u001b[0mmean\u001b[0m \u001b[0;34m=\u001b[0m \u001b[0mmetric\u001b[0m\u001b[0;34m.\u001b[0m\u001b[0mmean\u001b[0m\u001b[0;34m(\u001b[0m\u001b[0mdata\u001b[0m\u001b[0;34m,\u001b[0m \u001b[0mmax_iter\u001b[0m\u001b[0;34m=\u001b[0m\u001b[0;36m100\u001b[0m\u001b[0;34m,\u001b[0m \u001b[0mepsilon\u001b[0m\u001b[0;34m=\u001b[0m\u001b[0;36m1e-6\u001b[0m\u001b[0;34m)\u001b[0m\u001b[0;34m\u001b[0m\u001b[0;34m\u001b[0m\u001b[0m\n\u001b[0m\u001b[1;32m     15\u001b[0m \u001b[0;34m\u001b[0m\u001b[0m\n\u001b[1;32m     16\u001b[0m \u001b[0;31m# Step 2: Map to tangent space at mean\u001b[0m\u001b[0;34m\u001b[0m\u001b[0;34m\u001b[0m\u001b[0m\n",
            "\u001b[0;31mAttributeError\u001b[0m: 'SPDAffineMetric' object has no attribute 'mean'"
          ]
        }
      ]
    },
    {
      "source": [
        "import numpy as np\n",
        "from geomstats.geometry.spd_matrices import SPDMatrices, SPDAffineMetric\n",
        "from geomstats.learning.pca import TangentPCA\n",
        "\n",
        "# Step 0: Generate synthetic fMRI covariance matrices (for illustration)\n",
        "n_subjects = 100\n",
        "n_regions = 100\n",
        "spd_manifold = SPDMatrices(n=n_regions)\n",
        "data = spd_manifold.random_point(n_samples=n_subjects)  # Replace with real data\n",
        "\n",
        "# Step 1: Compute Fréchet Mean (Karcher flow)\n",
        "# Use the spd_manifold object (SPDMatrices) to compute the mean\n",
        "metric = SPDAffineMetric(spd_manifold)\n",
        "mean = spd_manifold.mean(data, metric=metric, max_iter=100, epsilon=1e-6) # Corrected line\n",
        "\n",
        "# Step 2: Map to tangent space at mean\n",
        "tangent_vectors = metric.log(data, mean)\n",
        "\n",
        "# Step 3: Apply Tangent PCA\n",
        "tpca = TangentPCA(metric=metric, n_components=10)\n",
        "tpca.fit(data, base_point=mean)\n",
        "reduced_tangent_vectors = tpca.transform(data)\n",
        "\n",
        "# Step 4: Reconstruct reduced SPD matrices (optional)\n",
        "reconstructed_data = tpca.inverse_transform(reduced_tangent_vectors)"
      ],
      "cell_type": "code",
      "metadata": {
        "colab": {
          "base_uri": "https://localhost:8080/",
          "height": 418
        },
        "id": "WL2YXlo4VJ49",
        "outputId": "75ae5598-9674-4534-ec31-290339108d44"
      },
      "execution_count": null,
      "outputs": [
        {
          "output_type": "error",
          "ename": "ImportError",
          "evalue": "cannot import name 'mean' from 'geomstats.geometry.spd_matrices' (/usr/local/lib/python3.11/dist-packages/geomstats/geometry/spd_matrices.py)",
          "traceback": [
            "\u001b[0;31m---------------------------------------------------------------------------\u001b[0m",
            "\u001b[0;31mImportError\u001b[0m                               Traceback (most recent call last)",
            "\u001b[0;32m<ipython-input-6-c9554944be85>\u001b[0m in \u001b[0;36m<cell line: 0>\u001b[0;34m()\u001b[0m\n\u001b[1;32m      1\u001b[0m \u001b[0;32mimport\u001b[0m \u001b[0mnumpy\u001b[0m \u001b[0;32mas\u001b[0m \u001b[0mnp\u001b[0m\u001b[0;34m\u001b[0m\u001b[0;34m\u001b[0m\u001b[0m\n\u001b[0;32m----> 2\u001b[0;31m \u001b[0;32mfrom\u001b[0m \u001b[0mgeomstats\u001b[0m\u001b[0;34m.\u001b[0m\u001b[0mgeometry\u001b[0m\u001b[0;34m.\u001b[0m\u001b[0mspd_matrices\u001b[0m \u001b[0;32mimport\u001b[0m \u001b[0mSPDMatrices\u001b[0m\u001b[0;34m,\u001b[0m \u001b[0mSPDAffineMetric\u001b[0m\u001b[0;34m,\u001b[0m \u001b[0mmean\u001b[0m  \u001b[0;31m# Import mean\u001b[0m\u001b[0;34m\u001b[0m\u001b[0;34m\u001b[0m\u001b[0m\n\u001b[0m\u001b[1;32m      3\u001b[0m \u001b[0;32mfrom\u001b[0m \u001b[0mgeomstats\u001b[0m\u001b[0;34m.\u001b[0m\u001b[0mlearning\u001b[0m\u001b[0;34m.\u001b[0m\u001b[0mpca\u001b[0m \u001b[0;32mimport\u001b[0m \u001b[0mTangentPCA\u001b[0m\u001b[0;34m\u001b[0m\u001b[0;34m\u001b[0m\u001b[0m\n\u001b[1;32m      4\u001b[0m \u001b[0;34m\u001b[0m\u001b[0m\n\u001b[1;32m      5\u001b[0m \u001b[0;31m# Step 0: Generate synthetic fMRI covariance matrices (for illustration)\u001b[0m\u001b[0;34m\u001b[0m\u001b[0;34m\u001b[0m\u001b[0m\n",
            "\u001b[0;31mImportError\u001b[0m: cannot import name 'mean' from 'geomstats.geometry.spd_matrices' (/usr/local/lib/python3.11/dist-packages/geomstats/geometry/spd_matrices.py)",
            "",
            "\u001b[0;31m---------------------------------------------------------------------------\u001b[0;32m\nNOTE: If your import is failing due to a missing package, you can\nmanually install dependencies using either !pip or !apt.\n\nTo view examples of installing some common dependencies, click the\n\"Open Examples\" button below.\n\u001b[0;31m---------------------------------------------------------------------------\u001b[0m\n"
          ],
          "errorDetails": {
            "actions": [
              {
                "action": "open_url",
                "actionText": "Open Examples",
                "url": "/notebooks/snippets/importing_libraries.ipynb"
              }
            ]
          }
        }
      ]
    },
    {
      "source": [
        "import numpy as np\n",
        "from scipy.linalg import cholesky\n",
        "\n",
        "# Function to generate SPD matrices\n",
        "def generate_spd_matrix(dim):\n",
        "    A = np.random.rand(dim, dim)\n",
        "    spd_matrix = np.dot(A, A.T) + np.eye(dim)  # Ensures positive definiteness\n",
        "    return spd_matrix\n",
        "\n",
        "# Generate a few SPD matrices (3x3)\n",
        "num_matrices = 5\n",
        "dim = 2\n",
        "spd_matrices = [generate_spd_matrix(dim) for _ in range(num_matrices)]\n"
      ],
      "cell_type": "code",
      "metadata": {
        "id": "Qy12TaP9VWPs"
      },
      "execution_count": null,
      "outputs": []
    },
    {
      "cell_type": "code",
      "source": [
        "# Flatten the SPD matrices into vectors\n",
        "flattened_spd_matrices = [matrix.flatten() for matrix in spd_matrices]\n",
        "flattened_spd_matrices = np.array(flattened_spd_matrices)\n",
        "\n",
        "# Perform classical PCA using sklearn\n",
        "from sklearn.decomposition import PCA\n",
        "\n",
        "# Initialize PCA and reduce to 2 dimensions\n",
        "pca = PCA(n_components=1)\n",
        "pca_result = pca.fit_transform(flattened_spd_matrices)\n",
        "\n",
        "print(\"PCA components (flattened SPD matrices):\")\n",
        "print(pca.components_)\n",
        "print(\"Transformed data (PCA projection):\")\n",
        "print(pca_result)\n"
      ],
      "metadata": {
        "colab": {
          "base_uri": "https://localhost:8080/"
        },
        "id": "UwCXNymidk8i",
        "outputId": "28f66e4a-df2b-480d-bd06-aa551e364409"
      },
      "execution_count": null,
      "outputs": [
        {
          "output_type": "stream",
          "name": "stdout",
          "text": [
            "PCA components (flattened SPD matrices):\n",
            "[[-0.12657405  0.29860963  0.29860963  0.89757651]]\n",
            "Transformed data (PCA projection):\n",
            "[[ 0.1584568 ]\n",
            " [-0.60576755]\n",
            " [ 0.6282909 ]\n",
            " [-0.00263941]\n",
            " [-0.17834074]]\n"
          ]
        }
      ]
    },
    {
      "cell_type": "code",
      "source": [
        "from sklearn.decomposition import PCA\n",
        "from scipy.linalg import logm, expm\n",
        "\n",
        "# Log-Euclidean PCA method\n",
        "def log_euclidean_pca(matrices, n_components=2):\n",
        "    # Take the logarithm of each SPD matrix\n",
        "    log_matrices = [logm(matrix) for matrix in matrices]\n",
        "\n",
        "    # Flatten the log-transformed matrices\n",
        "    log_matrices_flat = np.array([matrix.flatten() for matrix in log_matrices])\n",
        "\n",
        "    # Apply classical PCA to the flattened log-matrices\n",
        "    pca = PCA(n_components=n_components)\n",
        "    pca_result = pca.fit_transform(log_matrices_flat)\n",
        "\n",
        "    # Reconstruct the SPD matrices by exponentiating the PCA results\n",
        "    # Expanding the PCA results back to the manifold\n",
        "    reconstructed_matrices = [expm(pca.components_.dot(comp)) for comp in pca_result.T]\n",
        "\n",
        "    return pca_result, reconstructed_matrices\n",
        "\n",
        "# Apply Log-Euclidean PCA to the SPD matrices\n",
        "pca_result_log_euclidean, reconstructed_matrices = log_euclidean_pca(spd_matrices, n_components=2)\n",
        "\n",
        "print(\"Log-Euclidean PCA transformed data:\")\n",
        "print(pca_result_log_euclidean)\n"
      ],
      "metadata": {
        "colab": {
          "base_uri": "https://localhost:8080/",
          "height": 371
        },
        "id": "l9qQfYr1d50L",
        "outputId": "96738510-4807-4963-d30e-9954115aefeb"
      },
      "execution_count": null,
      "outputs": [
        {
          "output_type": "error",
          "ename": "ValueError",
          "evalue": "shapes (2,9) and (5,) not aligned: 9 (dim 1) != 5 (dim 0)",
          "traceback": [
            "\u001b[0;31m---------------------------------------------------------------------------\u001b[0m",
            "\u001b[0;31mValueError\u001b[0m                                Traceback (most recent call last)",
            "\u001b[0;32m<ipython-input-13-e4b101cf58a3>\u001b[0m in \u001b[0;36m<cell line: 0>\u001b[0;34m()\u001b[0m\n\u001b[1;32m     21\u001b[0m \u001b[0;34m\u001b[0m\u001b[0m\n\u001b[1;32m     22\u001b[0m \u001b[0;31m# Apply Log-Euclidean PCA to the SPD matrices\u001b[0m\u001b[0;34m\u001b[0m\u001b[0;34m\u001b[0m\u001b[0m\n\u001b[0;32m---> 23\u001b[0;31m \u001b[0mpca_result_log_euclidean\u001b[0m\u001b[0;34m,\u001b[0m \u001b[0mreconstructed_matrices\u001b[0m \u001b[0;34m=\u001b[0m \u001b[0mlog_euclidean_pca\u001b[0m\u001b[0;34m(\u001b[0m\u001b[0mspd_matrices\u001b[0m\u001b[0;34m,\u001b[0m \u001b[0mn_components\u001b[0m\u001b[0;34m=\u001b[0m\u001b[0;36m2\u001b[0m\u001b[0;34m)\u001b[0m\u001b[0;34m\u001b[0m\u001b[0;34m\u001b[0m\u001b[0m\n\u001b[0m\u001b[1;32m     24\u001b[0m \u001b[0;34m\u001b[0m\u001b[0m\n\u001b[1;32m     25\u001b[0m \u001b[0mprint\u001b[0m\u001b[0;34m(\u001b[0m\u001b[0;34m\"Log-Euclidean PCA transformed data:\"\u001b[0m\u001b[0;34m)\u001b[0m\u001b[0;34m\u001b[0m\u001b[0;34m\u001b[0m\u001b[0m\n",
            "\u001b[0;32m<ipython-input-13-e4b101cf58a3>\u001b[0m in \u001b[0;36mlog_euclidean_pca\u001b[0;34m(matrices, n_components)\u001b[0m\n\u001b[1;32m     16\u001b[0m     \u001b[0;31m# Reconstruct the SPD matrices by exponentiating the PCA results\u001b[0m\u001b[0;34m\u001b[0m\u001b[0;34m\u001b[0m\u001b[0m\n\u001b[1;32m     17\u001b[0m     \u001b[0;31m# Expanding the PCA results back to the manifold\u001b[0m\u001b[0;34m\u001b[0m\u001b[0;34m\u001b[0m\u001b[0m\n\u001b[0;32m---> 18\u001b[0;31m     \u001b[0mreconstructed_matrices\u001b[0m \u001b[0;34m=\u001b[0m \u001b[0;34m[\u001b[0m\u001b[0mexpm\u001b[0m\u001b[0;34m(\u001b[0m\u001b[0mpca\u001b[0m\u001b[0;34m.\u001b[0m\u001b[0mcomponents_\u001b[0m\u001b[0;34m.\u001b[0m\u001b[0mdot\u001b[0m\u001b[0;34m(\u001b[0m\u001b[0mcomp\u001b[0m\u001b[0;34m)\u001b[0m\u001b[0;34m)\u001b[0m \u001b[0;32mfor\u001b[0m \u001b[0mcomp\u001b[0m \u001b[0;32min\u001b[0m \u001b[0mpca_result\u001b[0m\u001b[0;34m.\u001b[0m\u001b[0mT\u001b[0m\u001b[0;34m]\u001b[0m\u001b[0;34m\u001b[0m\u001b[0;34m\u001b[0m\u001b[0m\n\u001b[0m\u001b[1;32m     19\u001b[0m \u001b[0;34m\u001b[0m\u001b[0m\n\u001b[1;32m     20\u001b[0m     \u001b[0;32mreturn\u001b[0m \u001b[0mpca_result\u001b[0m\u001b[0;34m,\u001b[0m \u001b[0mreconstructed_matrices\u001b[0m\u001b[0;34m\u001b[0m\u001b[0;34m\u001b[0m\u001b[0m\n",
            "\u001b[0;32m<ipython-input-13-e4b101cf58a3>\u001b[0m in \u001b[0;36m<listcomp>\u001b[0;34m(.0)\u001b[0m\n\u001b[1;32m     16\u001b[0m     \u001b[0;31m# Reconstruct the SPD matrices by exponentiating the PCA results\u001b[0m\u001b[0;34m\u001b[0m\u001b[0;34m\u001b[0m\u001b[0m\n\u001b[1;32m     17\u001b[0m     \u001b[0;31m# Expanding the PCA results back to the manifold\u001b[0m\u001b[0;34m\u001b[0m\u001b[0;34m\u001b[0m\u001b[0m\n\u001b[0;32m---> 18\u001b[0;31m     \u001b[0mreconstructed_matrices\u001b[0m \u001b[0;34m=\u001b[0m \u001b[0;34m[\u001b[0m\u001b[0mexpm\u001b[0m\u001b[0;34m(\u001b[0m\u001b[0mpca\u001b[0m\u001b[0;34m.\u001b[0m\u001b[0mcomponents_\u001b[0m\u001b[0;34m.\u001b[0m\u001b[0mdot\u001b[0m\u001b[0;34m(\u001b[0m\u001b[0mcomp\u001b[0m\u001b[0;34m)\u001b[0m\u001b[0;34m)\u001b[0m \u001b[0;32mfor\u001b[0m \u001b[0mcomp\u001b[0m \u001b[0;32min\u001b[0m \u001b[0mpca_result\u001b[0m\u001b[0;34m.\u001b[0m\u001b[0mT\u001b[0m\u001b[0;34m]\u001b[0m\u001b[0;34m\u001b[0m\u001b[0;34m\u001b[0m\u001b[0m\n\u001b[0m\u001b[1;32m     19\u001b[0m \u001b[0;34m\u001b[0m\u001b[0m\n\u001b[1;32m     20\u001b[0m     \u001b[0;32mreturn\u001b[0m \u001b[0mpca_result\u001b[0m\u001b[0;34m,\u001b[0m \u001b[0mreconstructed_matrices\u001b[0m\u001b[0;34m\u001b[0m\u001b[0;34m\u001b[0m\u001b[0m\n",
            "\u001b[0;31mValueError\u001b[0m: shapes (2,9) and (5,) not aligned: 9 (dim 1) != 5 (dim 0)"
          ]
        }
      ]
    },
    {
      "cell_type": "code",
      "source": [
        "print(flattened_spd_matrices)"
      ],
      "metadata": {
        "colab": {
          "base_uri": "https://localhost:8080/"
        },
        "id": "3WKnPNdqj0oq",
        "outputId": "563437f9-dc5f-4771-90a3-773d48294647"
      },
      "execution_count": null,
      "outputs": [
        {
          "output_type": "stream",
          "name": "stdout",
          "text": [
            "[[2.04170252 0.6915326  0.74128429 0.6915326  1.74924405 0.67555631\n",
            "  0.74128429 0.67555631 1.67824467]\n",
            " [2.14167259 0.87288636 0.68281414 0.87288636 1.83120648 0.78471749\n",
            "  0.68281414 0.78471749 1.88086273]\n",
            " [1.81542744 0.32801785 0.46816054 0.32801785 1.77425141 0.76715718\n",
            "  0.46816054 0.76715718 2.06198379]\n",
            " [2.76564549 1.73804421 0.2363025  1.73804421 2.75830156 0.22234708\n",
            "  0.2363025  0.22234708 1.03384617]\n",
            " [1.44913048 0.14491611 0.44161773 0.14491611 1.60749951 0.46473873\n",
            "  0.44161773 0.46473873 1.66221947]\n",
            " [1.43745894 0.57486087 0.64426778 0.57486087 1.99496099 0.9261419\n",
            "  0.64426778 0.9261419  2.22103653]\n",
            " [1.91011973 0.72106771 0.60873393 0.72106771 2.19354004 0.45015888\n",
            "  0.60873393 0.45015888 1.62220544]\n",
            " [2.11718243 1.4160525  0.70622399 1.4160525  3.08690576 1.07296314\n",
            "  0.70622399 1.07296314 1.56276281]\n",
            " [2.04544813 0.18680248 0.34223618 0.18680248 1.53692058 0.43895334\n",
            "  0.34223618 0.43895334 1.97462731]\n",
            " [1.1154243  0.28883428 0.30286296 0.28883428 2.00288888 1.1354641\n",
            "  0.30286296 1.1354641  2.33577269]\n",
            " [2.24283667 0.75606728 1.02279801 0.75606728 1.92819604 0.89399732\n",
            "  1.02279801 0.89399732 2.12552486]\n",
            " [1.28004471 0.66120752 0.29197883 0.66120752 2.7664103  0.81669023\n",
            "  0.29197883 0.81669023 1.38397553]\n",
            " [2.09058645 0.68905145 0.79849767 0.68905145 1.73445072 0.95845136\n",
            "  0.79849767 0.95845136 2.31905781]\n",
            " [2.66002557 0.79297595 0.960023   0.79297595 1.67637793 0.53337964\n",
            "  0.960023   0.53337964 1.94227371]\n",
            " [2.61097703 0.48782112 0.52310017 0.48782112 1.79926841 0.31821156\n",
            "  0.52310017 0.31821156 1.20942507]\n",
            " [3.00643395 1.05745728 0.63550187 1.05745728 1.68018707 0.28328187\n",
            "  0.63550187 0.28328187 1.23812676]\n",
            " [2.15862565 0.79549457 1.55669565 0.79549457 1.69140321 1.40283895\n",
            "  1.55669565 1.40283895 3.93268957]\n",
            " [2.37050946 1.56724323 0.82604959 1.56724323 2.91954797 1.03392418\n",
            "  0.82604959 1.03392418 1.58644503]\n",
            " [2.95602259 1.8201705  1.19615205 1.8201705  2.76146308 1.29730399\n",
            "  1.19615205 1.29730399 2.28874754]\n",
            " [2.06843336 0.91423681 0.58750502 0.91423681 2.54418297 0.5196135\n",
            "  0.58750502 0.5196135  1.3759233 ]\n",
            " [1.47836282 0.3221838  0.82341615 0.3221838  1.25755518 0.66918275\n",
            "  0.82341615 0.66918275 2.8989774 ]\n",
            " [1.68982763 0.70300301 0.50331139 0.70300301 1.75057409 0.51818249\n",
            "  0.50331139 0.51818249 1.62249866]\n",
            " [1.20943133 0.53532018 0.35072953 0.53532018 2.41911987 0.85823275\n",
            "  0.35072953 0.85823275 1.62810409]\n",
            " [2.65961793 1.23839443 0.65906237 1.23839443 2.31730504 0.69169922\n",
            "  0.65906237 0.69169922 1.72861476]\n",
            " [2.81689297 0.83528157 1.58027973 0.83528157 1.51353818 0.69223866\n",
            "  1.58027973 0.69223866 2.63974609]\n",
            " [1.87334809 0.2962207  0.88798222 0.2962207  1.10226177 0.32683288\n",
            "  0.88798222 0.32683288 2.27132159]\n",
            " [1.37161825 0.64940487 0.34284287 0.64940487 2.35914069 1.04120754\n",
            "  0.34284287 1.04120754 2.19450326]\n",
            " [1.72368562 0.85726903 0.84278129 0.85726903 2.05683399 1.094187\n",
            "  0.84278129 1.094187   2.21582298]\n",
            " [2.49614954 1.69541327 0.77289372 1.69541327 3.10151977 0.96893246\n",
            "  0.77289372 0.96893246 1.68910365]\n",
            " [1.80996592 0.3532094  0.75595434 0.3532094  1.27750871 0.34871756\n",
            "  0.75595434 0.34871756 1.74328301]\n",
            " [1.86323151 1.10068753 0.90898041 1.10068753 2.77089786 1.24848328\n",
            "  0.90898041 1.24848328 2.24630234]\n",
            " [2.43755726 1.4193462  0.6318885  1.4193462  2.40971405 0.62949059\n",
            "  0.6318885  0.62949059 1.28285736]\n",
            " [1.75827494 0.47553516 1.03342507 0.47553516 1.77025908 0.82381143\n",
            "  1.03342507 0.82381143 2.47452187]\n",
            " [2.29844627 1.1145764  0.97234433 1.1145764  2.01851024 0.97565645\n",
            "  0.97234433 0.97565645 2.08239256]\n",
            " [2.14604906 0.90908768 0.62119363 0.90908768 2.19160031 0.69761639\n",
            "  0.62119363 0.69761639 1.44868627]\n",
            " [1.91980735 0.75493003 0.60735516 0.75493003 2.36711713 0.7181612\n",
            "  0.60735516 0.7181612  1.51159861]\n",
            " [1.42340308 0.87250158 0.86259764 0.87250158 3.05663611 1.91702757\n",
            "  0.86259764 1.91702757 2.96124161]\n",
            " [1.27994346 0.40686852 0.41567392 0.40686852 1.81523038 1.02458667\n",
            "  0.41567392 1.02458667 2.75214962]\n",
            " [1.3436991  0.61523712 0.5840468  0.61523712 2.25044375 1.03075178\n",
            "  0.5840468  1.03075178 1.99674093]\n",
            " [2.74459155 0.34476719 1.84969107 0.34476719 1.15803992 0.41472157\n",
            "  1.84969107 0.41472157 3.00526495]\n",
            " [2.94420886 1.13939939 0.38166904 1.13939939 2.12226798 0.17535123\n",
            "  0.38166904 0.17535123 1.10537571]\n",
            " [1.62300325 0.25641766 0.57652888 0.25641766 1.18952466 0.47231099\n",
            "  0.57652888 0.47231099 2.19246506]\n",
            " [2.26537954 1.07360396 1.35770358 1.07360396 1.92886596 1.19644184\n",
            "  1.35770358 1.19644184 2.61970488]\n",
            " [1.24690636 0.20900585 0.49267927 0.20900585 1.36143366 0.40635432\n",
            "  0.49267927 0.40635432 1.99052164]\n",
            " [2.84316113 0.81634464 0.97918934 0.81634464 1.70242008 0.83602311\n",
            "  0.97918934 0.83602311 2.0297942 ]\n",
            " [1.01610103 0.14265126 0.10051713 0.14265126 2.28761274 0.92281161\n",
            "  0.10051713 0.92281161 1.69815524]\n",
            " [1.26609084 0.35988122 0.27212606 0.35988122 1.91425983 0.46036585\n",
            "  0.27212606 0.46036585 1.30050511]\n",
            " [2.15390383 1.20762345 0.72149874 1.20762345 2.4730633  0.79394195\n",
            "  0.72149874 0.79394195 1.64266985]\n",
            " [1.11657082 0.0833712  0.37794529 0.0833712  1.17978882 0.15334473\n",
            "  0.37794529 0.15334473 2.45666893]\n",
            " [1.64020096 0.24873247 0.78763926 0.24873247 1.15050914 0.31359005\n",
            "  0.78763926 0.31359005 2.26100055]\n",
            " [2.00953082 0.84851369 0.26287467 0.84851369 2.18322399 0.61033085\n",
            "  0.26287467 0.61033085 1.40336411]\n",
            " [2.0077904  0.84617476 0.52783021 0.84617476 1.72069596 0.40233634\n",
            "  0.52783021 0.40233634 2.02968705]\n",
            " [2.20829141 0.75566948 0.82511675 0.75566948 1.51884603 0.57907388\n",
            "  0.82511675 0.57907388 1.91165642]\n",
            " [2.51330924 0.89300634 1.49133725 0.89300634 2.02684833 1.24477877\n",
            "  1.49133725 1.24477877 2.80401395]\n",
            " [1.55761543 0.32327292 0.74042582 0.32327292 1.23349519 0.36417248\n",
            "  0.74042582 0.36417248 2.1746668 ]\n",
            " [1.14900677 0.29604583 0.34300914 0.29604583 1.59597718 0.67630307\n",
            "  0.34300914 0.67630307 1.97301661]\n",
            " [1.54710883 0.86277768 0.74685239 0.86277768 2.60235853 1.50826908\n",
            "  0.74685239 1.50826908 2.49923199]\n",
            " [1.68671342 0.22958844 0.92886409 0.22958844 1.21659182 0.55599649\n",
            "  0.92886409 0.55599649 2.68988242]\n",
            " [2.19408626 0.65063731 1.38136572 0.65063731 1.65308287 1.05937003\n",
            "  1.38136572 1.05937003 2.95970125]\n",
            " [2.76354363 0.91395213 1.23616107 0.91395213 1.48936813 0.68441172\n",
            "  1.23616107 0.68441172 2.13289556]\n",
            " [2.26427124 0.79214532 0.71913778 0.79214532 2.24058862 0.56743958\n",
            "  0.71913778 0.56743958 1.91023078]\n",
            " [1.85752037 0.65111007 0.15113387 0.65111007 2.10259037 0.62989972\n",
            "  0.15113387 0.62989972 1.66055752]\n",
            " [1.53841521 0.49810434 0.78256919 0.49810434 1.81981497 0.72636463\n",
            "  0.78256919 0.72636463 2.23990031]\n",
            " [1.35457871 0.34139874 0.67917987 0.34139874 2.09148232 1.27577492\n",
            "  0.67917987 1.27577492 2.88760447]\n",
            " [1.1800152  0.36515393 0.20240379 0.36515393 1.92972882 0.60304739\n",
            "  0.20240379 0.60304739 1.48246144]\n",
            " [1.38281816 0.37634099 0.59315001 0.37634099 1.51680177 0.7571141\n",
            "  0.59315001 0.7571141  2.14188359]\n",
            " [1.46156451 0.27552047 0.67244307 0.27552047 1.96396434 0.77576994\n",
            "  0.67244307 0.77576994 2.32538096]\n",
            " [1.81592798 1.05707511 0.97523476 1.05707511 2.88974942 1.60026052\n",
            "  0.97523476 1.60026052 2.48569427]\n",
            " [1.86478013 1.35949731 1.19091814 1.35949731 3.29743839 2.03517204\n",
            "  1.19091814 2.03517204 2.83737065]\n",
            " [1.56611526 0.44600523 0.55225742 0.44600523 1.46038608 0.39685045\n",
            "  0.55225742 0.39685045 1.56540863]\n",
            " [1.94530986 0.71323073 0.63643492 0.71323073 1.64434481 0.56599297\n",
            "  0.63643492 0.56599297 1.66478475]\n",
            " [2.25649283 1.0843769  0.75367702 1.0843769  2.60568547 1.03166469\n",
            "  0.75367702 1.03166469 2.03821161]\n",
            " [1.11885528 0.23835855 0.46662208 0.23835855 1.58953406 1.07335038\n",
            "  0.46662208 1.07335038 3.00228154]\n",
            " [1.58990431 0.07407071 0.26315025 0.07407071 1.02827115 0.09943859\n",
            "  0.26315025 0.09943859 1.3566757 ]\n",
            " [2.82407914 1.4303721  1.59939762 1.4303721  2.20306027 1.37663842\n",
            "  1.59939762 1.37663842 2.65721003]\n",
            " [2.33041777 1.38440893 0.95751792 1.38440893 2.53577033 1.07921185\n",
            "  0.95751792 1.07921185 1.76637222]\n",
            " [1.98231041 0.83608277 0.35472105 0.83608277 1.83376088 0.41759336\n",
            "  0.35472105 0.41759336 1.24891893]\n",
            " [2.00664135 0.6493745  0.27127173 0.6493745  1.56675364 0.12142643\n",
            "  0.27127173 0.12142643 1.94489043]\n",
            " [2.00653559 0.60095871 1.38474236 0.60095871 1.82036554 0.86830291\n",
            "  1.38474236 0.86830291 2.92748964]\n",
            " [2.69144082 0.98621998 0.70401914 0.98621998 2.12782157 0.57826071\n",
            "  0.70401914 0.57826071 1.44160361]\n",
            " [1.29922414 0.35728515 0.23124768 0.35728515 1.43305312 0.26813992\n",
            "  0.23124768 0.26813992 1.21289469]\n",
            " [1.93093866 0.97097756 0.70421429 0.97097756 2.17441576 0.74406743\n",
            "  0.70421429 0.74406743 1.57319364]\n",
            " [3.09928021 1.17528908 1.29925579 1.17528908 1.99762739 0.49622283\n",
            "  1.29925579 0.49622283 2.02821314]\n",
            " [1.61115458 0.6657912  0.82125446 0.6657912  1.78735568 0.98830062\n",
            "  0.82125446 0.98830062 2.31337393]\n",
            " [1.87605458 0.86035493 1.10290419 0.86035493 2.21450951 1.42214574\n",
            "  1.10290419 1.42214574 2.71571781]\n",
            " [3.03439075 1.74220915 1.43339195 1.74220915 2.66608462 1.08083574\n",
            "  1.43339195 1.08083574 2.55171232]\n",
            " [1.59525894 0.28584151 0.47178851 0.28584151 2.10939144 0.74022168\n",
            "  0.47178851 0.74022168 1.70108496]\n",
            " [2.01324127 0.39708913 0.73716372 0.39708913 1.22966252 0.31789982\n",
            "  0.73716372 0.31789982 1.55639242]\n",
            " [2.10015133 0.55172198 0.76150144 0.55172198 1.33590979 0.62326131\n",
            "  0.76150144 0.62326131 2.75749412]\n",
            " [2.44926903 0.94543154 1.0683339  0.94543154 1.81696645 0.77819394\n",
            "  1.0683339  0.77819394 2.61363779]\n",
            " [1.37112508 0.36165071 0.32082426 0.36165071 2.30246305 0.96655936\n",
            "  0.32082426 0.96655936 1.8810709 ]\n",
            " [1.72039175 0.35446963 0.68514854 0.35446963 2.68120495 0.36896103\n",
            "  0.68514854 0.36896103 1.680856  ]\n",
            " [2.32769337 0.95392961 0.53066002 0.95392961 2.57156847 1.01639596\n",
            "  0.53066002 1.01639596 1.94077399]\n",
            " [1.78496039 0.17036825 0.72613205 0.17036825 1.20639697 0.36350584\n",
            "  0.72613205 0.36350584 1.97133606]\n",
            " [3.0852738  1.43440042 1.64958425 1.43440042 2.08047521 1.0378902\n",
            "  1.64958425 1.0378902  2.40795892]\n",
            " [2.26100323 0.75895339 0.55706177 0.75895339 1.85763353 0.41692235\n",
            "  0.55706177 0.41692235 1.26274771]\n",
            " [1.57886763 0.84586114 0.14463642 0.84586114 3.02979912 0.5986393\n",
            "  0.14463642 0.5986393  1.31551981]\n",
            " [2.88512252 0.87790503 1.03174822 0.87790503 1.57403371 0.52598904\n",
            "  1.03174822 0.52598904 1.73269306]\n",
            " [2.65826671 1.13925711 1.00559893 1.13925711 2.08459053 0.99649242\n",
            "  1.00559893 0.99649242 2.14502599]\n",
            " [1.50660634 0.73636627 0.69272575 0.73636627 2.2373433  1.02821355\n",
            "  0.69272575 1.02821355 1.95998073]]\n"
          ]
        }
      ]
    },
    {
      "cell_type": "code",
      "source": [
        "import torch\n",
        "import torch.nn as nn\n",
        "import torch.optim as optim\n",
        "import numpy as np\n",
        "\n",
        "# Define the Autoencoder\n",
        "class SPD_Autoencoder(nn.Module):\n",
        "    def __init__(self, input_dim=9, latent_dim=2):\n",
        "        super(SPD_Autoencoder, self).__init__()\n",
        "\n",
        "        # Encoder\n",
        "        self.encoder = nn.Sequential(\n",
        "            nn.Linear(input_dim, 8),\n",
        "            nn.ReLU(),\n",
        "            nn.Linear(8, 6),\n",
        "            nn.ReLU(),\n",
        "            nn.Linear(6, 4),\n",
        "            nn.ReLU(),\n",
        "            nn.Linear(4, latent_dim),\n",
        "        )\n",
        "\n",
        "        # Decoder\n",
        "        self.decoder = nn.Sequential(\n",
        "            nn.Linear(latent_dim, 4),\n",
        "            nn.ReLU(),\n",
        "            nn.Linear(4, 6),\n",
        "            nn.ReLU(),\n",
        "            nn.Linear(6, 8),\n",
        "            nn.ReLU(),\n",
        "            nn.Linear(8, input_dim),\n",
        "        )\n",
        "\n",
        "    def forward(self, x):\n",
        "        encoded = self.encoder(x)\n",
        "        decoded = self.decoder(encoded)\n",
        "        return decoded\n",
        "\n",
        "# Generate synthetic SPD matrices (3x3)\n",
        "def generate_spd_matrices(n_samples):\n",
        "    matrices = []\n",
        "    for _ in range(n_samples):\n",
        "        A = np.random.randn(3, 3)\n",
        "        Y = A @ A.T  # Ensure positive definiteness\n",
        "        matrices.append(Y.flatten())  # Flatten to 9D vector\n",
        "    return np.array(matrices)\n",
        "\n",
        "# Prepare data\n",
        "n_samples = 10000\n",
        "data = generate_spd_matrices(n_samples)\n",
        "data = torch.tensor(data, dtype=torch.float32)\n",
        "\n",
        "# Initialize model, loss, and optimizer\n",
        "model = SPD_Autoencoder(input_dim=9, latent_dim=2)\n",
        "criterion = nn.MSELoss()\n",
        "optimizer = optim.Adam(model.parameters(), lr=0.01)\n",
        "\n",
        "# Training loop\n",
        "epochs = 100\n",
        "batch_size = 32\n",
        "for epoch in range(epochs):\n",
        "    for i in range(0, n_samples, batch_size):\n",
        "        # Get batch\n",
        "        batch = data[i:i+batch_size]\n",
        "\n",
        "        # Forward pass\n",
        "        reconstructed = model(batch)\n",
        "        loss = criterion(reconstructed, batch)\n",
        "\n",
        "        # Backward pass\n",
        "        optimizer.zero_grad()\n",
        "        loss.backward()\n",
        "        optimizer.step()\n",
        "\n",
        "    print(f\"Epoch [{epoch+1}/{epochs}], Loss: {loss.item():.4f}\")\n",
        "\n",
        "# Use the encoder for dimensionality reduction\n",
        "encoded_data = model.encoder(data).detach().numpy()\n",
        "print(\"Encoded Data Shape:\", encoded_data.shape)"
      ],
      "metadata": {
        "colab": {
          "base_uri": "https://localhost:8080/"
        },
        "id": "NLWs7jA4fDVD",
        "outputId": "dfe6ee90-cd5b-410a-cdef-46338f46ad9b"
      },
      "execution_count": null,
      "outputs": [
        {
          "output_type": "stream",
          "name": "stdout",
          "text": [
            "Epoch [1/100], Loss: 2.8768\n",
            "Epoch [2/100], Loss: 2.8755\n",
            "Epoch [3/100], Loss: 2.8745\n",
            "Epoch [4/100], Loss: 2.8720\n",
            "Epoch [5/100], Loss: 2.8676\n",
            "Epoch [6/100], Loss: 2.8621\n",
            "Epoch [7/100], Loss: 2.8566\n",
            "Epoch [8/100], Loss: 2.8515\n",
            "Epoch [9/100], Loss: 2.8470\n",
            "Epoch [10/100], Loss: 2.8431\n",
            "Epoch [11/100], Loss: 2.8397\n",
            "Epoch [12/100], Loss: 2.8369\n",
            "Epoch [13/100], Loss: 2.8345\n",
            "Epoch [14/100], Loss: 2.8323\n",
            "Epoch [15/100], Loss: 2.8303\n",
            "Epoch [16/100], Loss: 2.8285\n",
            "Epoch [17/100], Loss: 2.8269\n",
            "Epoch [18/100], Loss: 2.8254\n",
            "Epoch [19/100], Loss: 2.8240\n",
            "Epoch [20/100], Loss: 2.8227\n",
            "Epoch [21/100], Loss: 2.8216\n",
            "Epoch [22/100], Loss: 2.8205\n",
            "Epoch [23/100], Loss: 2.8196\n",
            "Epoch [24/100], Loss: 2.8187\n",
            "Epoch [25/100], Loss: 2.8180\n",
            "Epoch [26/100], Loss: 2.8173\n",
            "Epoch [27/100], Loss: 2.8166\n",
            "Epoch [28/100], Loss: 2.8160\n",
            "Epoch [29/100], Loss: 2.8153\n",
            "Epoch [30/100], Loss: 2.8146\n",
            "Epoch [31/100], Loss: 2.8140\n",
            "Epoch [32/100], Loss: 2.8133\n",
            "Epoch [33/100], Loss: 2.8126\n",
            "Epoch [34/100], Loss: 2.8120\n",
            "Epoch [35/100], Loss: 2.8113\n",
            "Epoch [36/100], Loss: 2.8107\n",
            "Epoch [37/100], Loss: 2.8101\n",
            "Epoch [38/100], Loss: 2.8095\n",
            "Epoch [39/100], Loss: 2.8089\n",
            "Epoch [40/100], Loss: 2.8083\n",
            "Epoch [41/100], Loss: 2.8078\n",
            "Epoch [42/100], Loss: 2.8072\n",
            "Epoch [43/100], Loss: 2.8067\n",
            "Epoch [44/100], Loss: 2.8062\n",
            "Epoch [45/100], Loss: 2.8056\n",
            "Epoch [46/100], Loss: 2.8051\n",
            "Epoch [47/100], Loss: 2.8047\n",
            "Epoch [48/100], Loss: 2.8042\n",
            "Epoch [49/100], Loss: 2.8037\n",
            "Epoch [50/100], Loss: 2.8033\n",
            "Epoch [51/100], Loss: 2.8028\n",
            "Epoch [52/100], Loss: 2.8024\n",
            "Epoch [53/100], Loss: 2.8020\n",
            "Epoch [54/100], Loss: 2.8016\n",
            "Epoch [55/100], Loss: 2.8012\n",
            "Epoch [56/100], Loss: 2.8008\n",
            "Epoch [57/100], Loss: 2.8004\n",
            "Epoch [58/100], Loss: 2.8000\n",
            "Epoch [59/100], Loss: 2.7996\n",
            "Epoch [60/100], Loss: 2.7993\n",
            "Epoch [61/100], Loss: 2.7989\n",
            "Epoch [62/100], Loss: 2.7986\n",
            "Epoch [63/100], Loss: 2.7983\n",
            "Epoch [64/100], Loss: 2.7980\n",
            "Epoch [65/100], Loss: 2.7976\n",
            "Epoch [66/100], Loss: 2.7973\n",
            "Epoch [67/100], Loss: 2.7971\n",
            "Epoch [68/100], Loss: 2.7968\n",
            "Epoch [69/100], Loss: 2.7965\n",
            "Epoch [70/100], Loss: 2.7962\n",
            "Epoch [71/100], Loss: 2.7960\n",
            "Epoch [72/100], Loss: 2.7957\n",
            "Epoch [73/100], Loss: 2.7955\n",
            "Epoch [74/100], Loss: 2.7953\n",
            "Epoch [75/100], Loss: 2.7951\n",
            "Epoch [76/100], Loss: 2.7949\n",
            "Epoch [77/100], Loss: 2.7947\n",
            "Epoch [78/100], Loss: 2.7945\n",
            "Epoch [79/100], Loss: 2.7944\n",
            "Epoch [80/100], Loss: 2.7942\n",
            "Epoch [81/100], Loss: 2.7941\n",
            "Epoch [82/100], Loss: 2.7940\n",
            "Epoch [83/100], Loss: 2.7939\n",
            "Epoch [84/100], Loss: 2.7938\n",
            "Epoch [85/100], Loss: 2.7938\n",
            "Epoch [86/100], Loss: 2.7936\n",
            "Epoch [87/100], Loss: 2.7935\n",
            "Epoch [88/100], Loss: 2.7934\n",
            "Epoch [89/100], Loss: 2.7934\n",
            "Epoch [90/100], Loss: 2.7933\n",
            "Epoch [91/100], Loss: 2.7932\n",
            "Epoch [92/100], Loss: 2.7932\n",
            "Epoch [93/100], Loss: 2.7931\n",
            "Epoch [94/100], Loss: 2.7931\n",
            "Epoch [95/100], Loss: 2.7931\n",
            "Epoch [96/100], Loss: 2.7930\n",
            "Epoch [97/100], Loss: 2.7930\n",
            "Epoch [98/100], Loss: 2.7930\n",
            "Epoch [99/100], Loss: 2.7930\n",
            "Epoch [100/100], Loss: 2.7930\n",
            "Encoded Data Shape: (10000, 2)\n"
          ]
        }
      ]
    },
    {
      "cell_type": "code",
      "source": [
        "import matplotlib.pyplot as plt\n",
        "\n",
        "plt.scatter(latent_vectors[:, 0], latent_vectors[:, 1])\n",
        "plt.title(\"Latent Space Visualization\")\n",
        "plt.xlabel(\"Latent Dimension 1\")\n",
        "plt.ylabel(\"Latent Dimension 2\")\n",
        "plt.show()"
      ],
      "metadata": {
        "colab": {
          "base_uri": "https://localhost:8080/",
          "height": 472
        },
        "id": "3bmz83_1kGie",
        "outputId": "6818179a-4bd6-45fa-e30a-e724e8ef9e67"
      },
      "execution_count": null,
      "outputs": [
        {
          "output_type": "display_data",
          "data": {
            "text/plain": [
              "<Figure size 640x480 with 1 Axes>"
            ],
            "image/png": "[encoded data removed]"
          },
          "metadata": {}
        }
      ]
    },
    {
      "cell_type": "markdown",
      "source": [],
      "metadata": {
        "id": "l20vCIevlME7"
      }
    },
    {
      "cell_type": "code",
      "source": [
        "import matplotlib.pyplot as plt\n",
        "\n",
        "plt.scatter(reduced_data[:, 0], reduced_data[:, 1], alpha=0.5)\n",
        "plt.title('2D Compressed Representation of SPD Matrices')\n",
        "plt.xlabel('Principal Component 1')\n",
        "plt.ylabel('Principal Component 2')\n",
        "plt.show()\n"
      ],
      "metadata": {
        "colab": {
          "base_uri": "https://localhost:8080/",
          "height": 472
        },
        "id": "Aocg7gKcgEis",
        "outputId": "7db9ccf9-0d9b-4626-e613-dfd67e02f9fa"
      },
      "execution_count": null,
      "outputs": [
        {
          "output_type": "display_data",
          "data": {
            "text/plain": [
              "<Figure size 640x480 with 1 Axes>"
            ],
            "image/png": "[encoded data removed]"
          },
          "metadata": {}
        }
      ]
    },
    {
      "cell_type": "code",
      "source": [
        "print(reduced_data)"
      ],
      "metadata": {
        "colab": {
          "base_uri": "https://localhost:8080/"
        },
        "id": "Tx_t158QgdWM",
        "outputId": "ee6c7e14-d1c7-46c8-afba-3ca8f8f0d1ec"
      },
      "execution_count": null,
      "outputs": [
        {
          "output_type": "stream",
          "name": "stdout",
          "text": [
            "[[ 8.961401   0.       ]\n",
            " [ 9.559931   0.       ]\n",
            " [ 8.440672   0.       ]\n",
            " [ 9.313348   0.       ]\n",
            " [ 6.8754888  0.       ]\n",
            " [ 9.2509775  0.       ]\n",
            " [ 8.665934   0.       ]\n",
            " [11.313287   0.       ]\n",
            " [ 7.5258684  0.       ]\n",
            " [ 8.431144   0.       ]\n",
            " [10.697907   0.       ]\n",
            " [ 8.173254   0.       ]\n",
            " [10.176302   0.       ]\n",
            " [10.089447   0.       ]\n",
            " [ 7.942744   0.       ]\n",
            " [ 8.948991   0.       ]\n",
            " [14.0423565  0.       ]\n",
            " [11.743284   0.       ]\n",
            " [14.214156   0.       ]\n",
            " [ 9.110942   0.       ]\n",
            " [ 9.046565   0.       ]\n",
            " [ 7.9162283  0.       ]\n",
            " [ 8.095714   0.       ]\n",
            " [10.515949   0.       ]\n",
            " [12.286275   0.       ]\n",
            " [ 8.282846   0.       ]\n",
            " [ 9.147484   0.       ]\n",
            " [10.447127   0.       ]\n",
            " [12.077722   0.       ]\n",
            " [ 7.6420813  0.       ]\n",
            " [11.8447695  0.       ]\n",
            " [ 9.946      0.       ]\n",
            " [10.133401   0.       ]\n",
            " [11.143045   0.       ]\n",
            " [ 9.230354   0.       ]\n",
            " [ 9.1035595  0.       ]\n",
            " [12.85521    0.       ]\n",
            " [ 9.045887   0.       ]\n",
            " [ 9.219768   0.       ]\n",
            " [11.961384   0.       ]\n",
            " [ 8.607188   0.       ]\n",
            " [ 7.6017294  0.       ]\n",
            " [12.607575   0.       ]\n",
            " [ 6.8947463  0.       ]\n",
            " [10.843655   0.       ]\n",
            " [ 7.0976377  0.       ]\n",
            " [ 6.471044   0.       ]\n",
            " [10.318937   0.       ]\n",
            " [ 6.333593   0.       ]\n",
            " [ 7.8420515  0.       ]\n",
            " [ 8.183553   0.       ]\n",
            " [ 8.660905   0.       ]\n",
            " [ 9.25066    0.       ]\n",
            " [13.280772   0.       ]\n",
            " [ 7.796158   0.       ]\n",
            " [ 7.1589794  0.       ]\n",
            " [11.473163   0.       ]\n",
            " [ 8.990455   0.       ]\n",
            " [12.111006   0.       ]\n",
            " [11.066178   0.       ]\n",
            " [ 9.7928     0.       ]\n",
            " [ 7.868438   0.       ]\n",
            " [ 9.128168   0.       ]\n",
            " [10.254521   0.       ]\n",
            " [ 6.6644244  0.       ]\n",
            " [ 8.152942   0.       ]\n",
            " [ 8.925391   0.       ]\n",
            " [12.726278   0.       ]\n",
            " [14.819301   0.       ]\n",
            " [ 7.1524234  0.       ]\n",
            " [ 8.431859   0.       ]\n",
            " [11.230914   0.       ]\n",
            " [ 8.95737    0.       ]\n",
            " [ 5.236515   0.       ]\n",
            " [14.475129   0.       ]\n",
            " [11.680177   0.       ]\n",
            " [ 7.570268   0.       ]\n",
            " [ 7.3596506  0.       ]\n",
            " [11.760351   0.       ]\n",
            " [ 9.749333   0.       ]\n",
            " [ 5.619832   0.       ]\n",
            " [ 9.42814    0.       ]\n",
            " [11.863429   0.       ]\n",
            " [ 9.830015   0.       ]\n",
            " [12.221293   0.       ]\n",
            " [14.577099   0.       ]\n",
            " [ 8.084285   0.       ]\n",
            " [ 7.5496297  0.       ]\n",
            " [ 9.616414   0.       ]\n",
            " [11.4345     0.       ]\n",
            " [ 8.3350525  0.       ]\n",
            " [ 8.694672   0.       ]\n",
            " [10.586885   0.       ]\n",
            " [ 7.5881095  0.       ]\n",
            " [13.983109   0.       ]\n",
            " [ 8.182774   0.       ]\n",
            " [ 8.229693   0.       ]\n",
            " [10.185872   0.       ]\n",
            " [11.726491   0.       ]\n",
            " [ 9.641564   0.       ]]\n"
          ]
        }
      ]
    }
  ]
}